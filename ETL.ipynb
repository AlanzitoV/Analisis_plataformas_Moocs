{
 "cells": [
  {
   "cell_type": "code",
   "execution_count": 1,
   "id": "54f3c62c-7c95-42b7-974b-1ee9c2fd3746",
   "metadata": {},
   "outputs": [],
   "source": [
    "import pandas as pd\n",
    "import re"
   ]
  },
  {
   "cell_type": "code",
   "execution_count": 2,
   "id": "61aa3e0b-2d08-46bb-8d95-30189968d8b9",
   "metadata": {},
   "outputs": [],
   "source": [
    "df1 = pd.read_csv(r'Coursera_courses.csv')\n",
    "df2 = pd.read_csv(r'Coursera_reviews.csv')\n",
    "df3 = pd.read_csv(r'edx_courses.csv')\n",
    "df4 = pd.read_csv(r'udemy_courses.csv')"
   ]
  },
  {
   "cell_type": "code",
   "execution_count": 3,
   "id": "7d44f01a-9e82-4012-a98b-af7096cfca5b",
   "metadata": {},
   "outputs": [
    {
     "data": {
      "text/html": [
       "<div>\n",
       "<style scoped>\n",
       "    .dataframe tbody tr th:only-of-type {\n",
       "        vertical-align: middle;\n",
       "    }\n",
       "\n",
       "    .dataframe tbody tr th {\n",
       "        vertical-align: top;\n",
       "    }\n",
       "\n",
       "    .dataframe thead th {\n",
       "        text-align: right;\n",
       "    }\n",
       "</style>\n",
       "<table border=\"1\" class=\"dataframe\">\n",
       "  <thead>\n",
       "    <tr style=\"text-align: right;\">\n",
       "      <th></th>\n",
       "      <th>name</th>\n",
       "      <th>institution</th>\n",
       "      <th>course_url</th>\n",
       "      <th>course_id</th>\n",
       "    </tr>\n",
       "  </thead>\n",
       "  <tbody>\n",
       "    <tr>\n",
       "      <th>0</th>\n",
       "      <td>Machine Learning</td>\n",
       "      <td>Stanford University</td>\n",
       "      <td>https://www.coursera.org/learn/machine-learning</td>\n",
       "      <td>machine-learning</td>\n",
       "    </tr>\n",
       "    <tr>\n",
       "      <th>1</th>\n",
       "      <td>Indigenous Canada</td>\n",
       "      <td>University of Alberta</td>\n",
       "      <td>https://www.coursera.org/learn/indigenous-canada</td>\n",
       "      <td>indigenous-canada</td>\n",
       "    </tr>\n",
       "    <tr>\n",
       "      <th>2</th>\n",
       "      <td>The Science of Well-Being</td>\n",
       "      <td>Yale University</td>\n",
       "      <td>https://www.coursera.org/learn/the-science-of-...</td>\n",
       "      <td>the-science-of-well-being</td>\n",
       "    </tr>\n",
       "  </tbody>\n",
       "</table>\n",
       "</div>"
      ],
      "text/plain": [
       "                        name            institution  \\\n",
       "0           Machine Learning    Stanford University   \n",
       "1          Indigenous Canada  University of Alberta   \n",
       "2  The Science of Well-Being        Yale University   \n",
       "\n",
       "                                          course_url  \\\n",
       "0    https://www.coursera.org/learn/machine-learning   \n",
       "1   https://www.coursera.org/learn/indigenous-canada   \n",
       "2  https://www.coursera.org/learn/the-science-of-...   \n",
       "\n",
       "                   course_id  \n",
       "0           machine-learning  \n",
       "1          indigenous-canada  \n",
       "2  the-science-of-well-being  "
      ]
     },
     "execution_count": 3,
     "metadata": {},
     "output_type": "execute_result"
    }
   ],
   "source": [
    "df1.head(3)"
   ]
  },
  {
   "cell_type": "code",
   "execution_count": 4,
   "id": "eecde06c-e3c4-4dd0-9480-39d1cec545ea",
   "metadata": {},
   "outputs": [
    {
     "name": "stdout",
     "output_type": "stream",
     "text": [
      "<class 'pandas.core.frame.DataFrame'>\n",
      "RangeIndex: 623 entries, 0 to 622\n",
      "Data columns (total 4 columns):\n",
      " #   Column       Non-Null Count  Dtype \n",
      "---  ------       --------------  ----- \n",
      " 0   name         623 non-null    object\n",
      " 1   institution  623 non-null    object\n",
      " 2   course_url   623 non-null    object\n",
      " 3   course_id    623 non-null    object\n",
      "dtypes: object(4)\n",
      "memory usage: 19.6+ KB\n"
     ]
    }
   ],
   "source": [
    "df1.info()"
   ]
  },
  {
   "cell_type": "code",
   "execution_count": 5,
   "id": "182f4a00-7e29-49d7-adcf-ce6bc461116c",
   "metadata": {},
   "outputs": [
    {
     "name": "stdout",
     "output_type": "stream",
     "text": [
      "0\n"
     ]
    }
   ],
   "source": [
    "duplicados = df1.duplicated()\n",
    "cantidad_duplicados = duplicados.sum()\n",
    "print(cantidad_duplicados)"
   ]
  },
  {
   "cell_type": "code",
   "execution_count": 6,
   "id": "007419df-af58-4980-ae8a-3cf6283a7867",
   "metadata": {},
   "outputs": [
    {
     "data": {
      "text/html": [
       "<div>\n",
       "<style scoped>\n",
       "    .dataframe tbody tr th:only-of-type {\n",
       "        vertical-align: middle;\n",
       "    }\n",
       "\n",
       "    .dataframe tbody tr th {\n",
       "        vertical-align: top;\n",
       "    }\n",
       "\n",
       "    .dataframe thead th {\n",
       "        text-align: right;\n",
       "    }\n",
       "</style>\n",
       "<table border=\"1\" class=\"dataframe\">\n",
       "  <thead>\n",
       "    <tr style=\"text-align: right;\">\n",
       "      <th></th>\n",
       "      <th>reviews</th>\n",
       "      <th>reviewers</th>\n",
       "      <th>date_reviews</th>\n",
       "      <th>rating</th>\n",
       "      <th>course_id</th>\n",
       "    </tr>\n",
       "  </thead>\n",
       "  <tbody>\n",
       "    <tr>\n",
       "      <th>0</th>\n",
       "      <td>Pretty dry, but I was able to pass with just t...</td>\n",
       "      <td>By Robert S</td>\n",
       "      <td>Feb 12, 2020</td>\n",
       "      <td>4</td>\n",
       "      <td>google-cbrs-cpi-training</td>\n",
       "    </tr>\n",
       "    <tr>\n",
       "      <th>1</th>\n",
       "      <td>would be a better experience if the video and ...</td>\n",
       "      <td>By Gabriel E R</td>\n",
       "      <td>Sep 28, 2020</td>\n",
       "      <td>4</td>\n",
       "      <td>google-cbrs-cpi-training</td>\n",
       "    </tr>\n",
       "    <tr>\n",
       "      <th>2</th>\n",
       "      <td>Information was perfect! The program itself wa...</td>\n",
       "      <td>By Jacob D</td>\n",
       "      <td>Apr 08, 2020</td>\n",
       "      <td>4</td>\n",
       "      <td>google-cbrs-cpi-training</td>\n",
       "    </tr>\n",
       "    <tr>\n",
       "      <th>3</th>\n",
       "      <td>A few grammatical mistakes on test made me do ...</td>\n",
       "      <td>By Dale B</td>\n",
       "      <td>Feb 24, 2020</td>\n",
       "      <td>4</td>\n",
       "      <td>google-cbrs-cpi-training</td>\n",
       "    </tr>\n",
       "    <tr>\n",
       "      <th>4</th>\n",
       "      <td>Excellent course and the training provided was...</td>\n",
       "      <td>By Sean G</td>\n",
       "      <td>Jun 18, 2020</td>\n",
       "      <td>4</td>\n",
       "      <td>google-cbrs-cpi-training</td>\n",
       "    </tr>\n",
       "  </tbody>\n",
       "</table>\n",
       "</div>"
      ],
      "text/plain": [
       "                                             reviews       reviewers  \\\n",
       "0  Pretty dry, but I was able to pass with just t...     By Robert S   \n",
       "1  would be a better experience if the video and ...  By Gabriel E R   \n",
       "2  Information was perfect! The program itself wa...      By Jacob D   \n",
       "3  A few grammatical mistakes on test made me do ...       By Dale B   \n",
       "4  Excellent course and the training provided was...       By Sean G   \n",
       "\n",
       "   date_reviews  rating                 course_id  \n",
       "0  Feb 12, 2020       4  google-cbrs-cpi-training  \n",
       "1  Sep 28, 2020       4  google-cbrs-cpi-training  \n",
       "2  Apr 08, 2020       4  google-cbrs-cpi-training  \n",
       "3  Feb 24, 2020       4  google-cbrs-cpi-training  \n",
       "4  Jun 18, 2020       4  google-cbrs-cpi-training  "
      ]
     },
     "execution_count": 6,
     "metadata": {},
     "output_type": "execute_result"
    }
   ],
   "source": [
    "df2.head()"
   ]
  },
  {
   "cell_type": "code",
   "execution_count": 7,
   "id": "2f15208a-bbb4-4f83-95be-05a2686f00bd",
   "metadata": {},
   "outputs": [
    {
     "name": "stdout",
     "output_type": "stream",
     "text": [
      "<class 'pandas.core.frame.DataFrame'>\n",
      "RangeIndex: 1454711 entries, 0 to 1454710\n",
      "Data columns (total 5 columns):\n",
      " #   Column        Non-Null Count    Dtype \n",
      "---  ------        --------------    ----- \n",
      " 0   reviews       1454571 non-null  object\n",
      " 1   reviewers     1454711 non-null  object\n",
      " 2   date_reviews  1454711 non-null  object\n",
      " 3   rating        1454711 non-null  int64 \n",
      " 4   course_id     1454711 non-null  object\n",
      "dtypes: int64(1), object(4)\n",
      "memory usage: 55.5+ MB\n"
     ]
    }
   ],
   "source": [
    "df2.info()"
   ]
  },
  {
   "cell_type": "code",
   "execution_count": 8,
   "id": "8da0eb20-fae4-4a99-bf9a-f0c841e7ac5e",
   "metadata": {},
   "outputs": [
    {
     "name": "stdout",
     "output_type": "stream",
     "text": [
      "934764\n"
     ]
    }
   ],
   "source": [
    "duplicados = df2.duplicated()\n",
    "cantidad_duplicados = duplicados.sum()\n",
    "print(cantidad_duplicados)"
   ]
  },
  {
   "cell_type": "code",
   "execution_count": 9,
   "id": "11228f6b-4de9-4046-a47f-7c176acf2bd1",
   "metadata": {},
   "outputs": [],
   "source": [
    "df2 = df2.drop_duplicates()"
   ]
  },
  {
   "cell_type": "code",
   "execution_count": 10,
   "id": "1fbe9949-1f8e-403b-b4b7-62e0dd672f65",
   "metadata": {},
   "outputs": [],
   "source": [
    "df2 = df2.drop(['reviewers'], axis=1)"
   ]
  },
  {
   "cell_type": "code",
   "execution_count": 11,
   "id": "de907def-a752-4b49-a2c9-0bc2bd0f0c9b",
   "metadata": {},
   "outputs": [
    {
     "name": "stdout",
     "output_type": "stream",
     "text": [
      "<class 'pandas.core.frame.DataFrame'>\n",
      "Int64Index: 519947 entries, 0 to 1454644\n",
      "Data columns (total 4 columns):\n",
      " #   Column        Non-Null Count   Dtype \n",
      "---  ------        --------------   ----- \n",
      " 0   reviews       519891 non-null  object\n",
      " 1   date_reviews  519947 non-null  object\n",
      " 2   rating        519947 non-null  int64 \n",
      " 3   course_id     519947 non-null  object\n",
      "dtypes: int64(1), object(3)\n",
      "memory usage: 19.8+ MB\n"
     ]
    }
   ],
   "source": [
    "df2.info()"
   ]
  },
  {
   "cell_type": "code",
   "execution_count": 12,
   "id": "1fadd6f4-86e7-4bb8-89a0-ac8a78017968",
   "metadata": {},
   "outputs": [
    {
     "data": {
      "text/html": [
       "<div>\n",
       "<style scoped>\n",
       "    .dataframe tbody tr th:only-of-type {\n",
       "        vertical-align: middle;\n",
       "    }\n",
       "\n",
       "    .dataframe tbody tr th {\n",
       "        vertical-align: top;\n",
       "    }\n",
       "\n",
       "    .dataframe thead th {\n",
       "        text-align: right;\n",
       "    }\n",
       "</style>\n",
       "<table border=\"1\" class=\"dataframe\">\n",
       "  <thead>\n",
       "    <tr style=\"text-align: right;\">\n",
       "      <th></th>\n",
       "      <th>title</th>\n",
       "      <th>summary</th>\n",
       "      <th>n_enrolled</th>\n",
       "      <th>course_type</th>\n",
       "      <th>institution</th>\n",
       "      <th>instructors</th>\n",
       "      <th>Level</th>\n",
       "      <th>subject</th>\n",
       "      <th>language</th>\n",
       "      <th>subtitles</th>\n",
       "      <th>course_effort</th>\n",
       "      <th>course_length</th>\n",
       "      <th>price</th>\n",
       "      <th>course_description</th>\n",
       "      <th>course_syllabus</th>\n",
       "      <th>course_url</th>\n",
       "    </tr>\n",
       "  </thead>\n",
       "  <tbody>\n",
       "    <tr>\n",
       "      <th>972</th>\n",
       "      <td>Computational Neuroscience: Neuronal Dynamics ...</td>\n",
       "      <td>This course explains the mathematical and comp...</td>\n",
       "      <td>11,246</td>\n",
       "      <td>Self-paced on your time</td>\n",
       "      <td>École polytechnique fédérale de Lausanne</td>\n",
       "      <td>Wulfram Gerstner</td>\n",
       "      <td>Advanced</td>\n",
       "      <td>Biology &amp; Life Sciences</td>\n",
       "      <td>English</td>\n",
       "      <td>English</td>\n",
       "      <td>4–6 hours per week</td>\n",
       "      <td>6 Weeks</td>\n",
       "      <td>FREE-Add a Verified Certificate for $139 USD</td>\n",
       "      <td>What happens in your brain when you make a dec...</td>\n",
       "      <td>Textbook: Neuronal Dynamics - from single neur...</td>\n",
       "      <td>https://www.edx.org/course/computational-neuro...</td>\n",
       "    </tr>\n",
       "    <tr>\n",
       "      <th>973</th>\n",
       "      <td>Cities and the Challenge of Sustainable Develo...</td>\n",
       "      <td>What is a sustainable city? Learn the basics h...</td>\n",
       "      <td>8,775</td>\n",
       "      <td>Self-paced on your time</td>\n",
       "      <td>SDG Academy</td>\n",
       "      <td>Jeffrey D. Sachs</td>\n",
       "      <td>Introductory</td>\n",
       "      <td>Environmental Studies</td>\n",
       "      <td>English</td>\n",
       "      <td>English</td>\n",
       "      <td>1–2 hours per week</td>\n",
       "      <td>1 Weeks</td>\n",
       "      <td>FREE-Add a Verified Certificate for $25 USD</td>\n",
       "      <td>According to the United Nations, urbanization ...</td>\n",
       "      <td>Module 1: Introduction to the SDGsProfessor Je...</td>\n",
       "      <td>https://www.edx.org/course/cities-and-the-chal...</td>\n",
       "    </tr>\n",
       "    <tr>\n",
       "      <th>974</th>\n",
       "      <td>MathTrackX: Special Functions</td>\n",
       "      <td>Understand trigonometric, exponential and loga...</td>\n",
       "      <td>NaN</td>\n",
       "      <td>Self-paced on your time</td>\n",
       "      <td>University of Adelaide</td>\n",
       "      <td>Dr David Butler</td>\n",
       "      <td>Introductory</td>\n",
       "      <td>Math</td>\n",
       "      <td>English</td>\n",
       "      <td>English</td>\n",
       "      <td>3–6 hours per week</td>\n",
       "      <td>4 Weeks</td>\n",
       "      <td>FREE-Add a Verified Certificate for $79 USD</td>\n",
       "      <td>This course is part two of the MathTrackX XSer...</td>\n",
       "      <td>NaN</td>\n",
       "      <td>https://www.edx.org/course/mathtrackx-special-...</td>\n",
       "    </tr>\n",
       "  </tbody>\n",
       "</table>\n",
       "</div>"
      ],
      "text/plain": [
       "                                                 title  \\\n",
       "972  Computational Neuroscience: Neuronal Dynamics ...   \n",
       "973  Cities and the Challenge of Sustainable Develo...   \n",
       "974                      MathTrackX: Special Functions   \n",
       "\n",
       "                                               summary n_enrolled  \\\n",
       "972  This course explains the mathematical and comp...     11,246   \n",
       "973  What is a sustainable city? Learn the basics h...      8,775   \n",
       "974  Understand trigonometric, exponential and loga...        NaN   \n",
       "\n",
       "                 course_type                               institution  \\\n",
       "972  Self-paced on your time  École polytechnique fédérale de Lausanne   \n",
       "973  Self-paced on your time                               SDG Academy   \n",
       "974  Self-paced on your time                    University of Adelaide   \n",
       "\n",
       "          instructors         Level                  subject language  \\\n",
       "972  Wulfram Gerstner      Advanced  Biology & Life Sciences  English   \n",
       "973  Jeffrey D. Sachs  Introductory    Environmental Studies  English   \n",
       "974   Dr David Butler  Introductory                     Math  English   \n",
       "\n",
       "    subtitles       course_effort course_length  \\\n",
       "972   English  4–6 hours per week       6 Weeks   \n",
       "973   English  1–2 hours per week       1 Weeks   \n",
       "974   English  3–6 hours per week       4 Weeks   \n",
       "\n",
       "                                            price  \\\n",
       "972  FREE-Add a Verified Certificate for $139 USD   \n",
       "973   FREE-Add a Verified Certificate for $25 USD   \n",
       "974   FREE-Add a Verified Certificate for $79 USD   \n",
       "\n",
       "                                    course_description  \\\n",
       "972  What happens in your brain when you make a dec...   \n",
       "973  According to the United Nations, urbanization ...   \n",
       "974  This course is part two of the MathTrackX XSer...   \n",
       "\n",
       "                                       course_syllabus  \\\n",
       "972  Textbook: Neuronal Dynamics - from single neur...   \n",
       "973  Module 1: Introduction to the SDGsProfessor Je...   \n",
       "974                                                NaN   \n",
       "\n",
       "                                            course_url  \n",
       "972  https://www.edx.org/course/computational-neuro...  \n",
       "973  https://www.edx.org/course/cities-and-the-chal...  \n",
       "974  https://www.edx.org/course/mathtrackx-special-...  "
      ]
     },
     "execution_count": 12,
     "metadata": {},
     "output_type": "execute_result"
    }
   ],
   "source": [
    "df3.tail(3)"
   ]
  },
  {
   "cell_type": "code",
   "execution_count": 13,
   "id": "0baafd89-c1e9-4e2e-9f1a-6a7869b51ee8",
   "metadata": {},
   "outputs": [
    {
     "name": "stdout",
     "output_type": "stream",
     "text": [
      "<class 'pandas.core.frame.DataFrame'>\n",
      "RangeIndex: 975 entries, 0 to 974\n",
      "Data columns (total 16 columns):\n",
      " #   Column              Non-Null Count  Dtype \n",
      "---  ------              --------------  ----- \n",
      " 0   title               975 non-null    object\n",
      " 1   summary             922 non-null    object\n",
      " 2   n_enrolled          855 non-null    object\n",
      " 3   course_type         975 non-null    object\n",
      " 4   institution         975 non-null    object\n",
      " 5   instructors         972 non-null    object\n",
      " 6   Level               975 non-null    object\n",
      " 7   subject             975 non-null    object\n",
      " 8   language            975 non-null    object\n",
      " 9   subtitles           972 non-null    object\n",
      " 10  course_effort       975 non-null    object\n",
      " 11  course_length       975 non-null    object\n",
      " 12  price               975 non-null    object\n",
      " 13  course_description  935 non-null    object\n",
      " 14  course_syllabus     417 non-null    object\n",
      " 15  course_url          975 non-null    object\n",
      "dtypes: object(16)\n",
      "memory usage: 122.0+ KB\n"
     ]
    }
   ],
   "source": [
    "df3.info()"
   ]
  },
  {
   "cell_type": "code",
   "execution_count": 14,
   "id": "f9813260-023c-4fdb-8edb-8b91c30c79ac",
   "metadata": {},
   "outputs": [
    {
     "name": "stdout",
     "output_type": "stream",
     "text": [
      "1\n"
     ]
    }
   ],
   "source": [
    "duplicados = df3.duplicated()\n",
    "cantidad_duplicados = duplicados.sum()\n",
    "print(cantidad_duplicados)"
   ]
  },
  {
   "cell_type": "code",
   "execution_count": 15,
   "id": "77be101a-bfce-491e-8201-dff6f894008c",
   "metadata": {},
   "outputs": [],
   "source": [
    "df3 = df3.drop_duplicates()"
   ]
  },
  {
   "cell_type": "code",
   "execution_count": 16,
   "id": "4fbd1c71-0038-4752-8549-e950632c8295",
   "metadata": {},
   "outputs": [],
   "source": [
    "def obtener_promedio_horas(celda):\n",
    "    horas = re.findall(r'\\d+', celda)\n",
    "    horas_enteros = [int(hora) for hora in horas]\n",
    "    promedio = sum(horas_enteros) / len(horas_enteros)\n",
    "    promedio_entero = int(round(promedio))\n",
    "    return promedio_entero"
   ]
  },
  {
   "cell_type": "code",
   "execution_count": 17,
   "id": "68e6cf1a-b893-485f-93e0-b3b93accfa99",
   "metadata": {},
   "outputs": [],
   "source": [
    "df3['course_effort_promedio'] = df3['course_effort'].apply(obtener_promedio_horas)"
   ]
  },
  {
   "cell_type": "code",
   "execution_count": 18,
   "id": "d4f9ae61-ba27-4538-8961-0376daf9831e",
   "metadata": {},
   "outputs": [],
   "source": [
    "def obtener_numero_semanas(celda):\n",
    "    numero_semanas = re.findall(r'\\d+', celda)\n",
    "    if len(numero_semanas) > 0:\n",
    "        return int(numero_semanas[0])\n",
    "    else:\n",
    "        return None"
   ]
  },
  {
   "cell_type": "code",
   "execution_count": 19,
   "id": "bfb611ed-533c-4963-8782-3c21396a6db7",
   "metadata": {},
   "outputs": [],
   "source": [
    "df3['course_length_semana'] = df3['course_length'].apply(obtener_numero_semanas)"
   ]
  },
  {
   "cell_type": "code",
   "execution_count": 20,
   "id": "174bd54a-08d1-49a0-b99a-126b7a696842",
   "metadata": {},
   "outputs": [],
   "source": [
    "df3['course_length_semana'] = df3['course_length_semana'].astype(int)\n",
    "df3['course_effort_promedio'] = df3['course_effort_promedio'].astype(int)"
   ]
  },
  {
   "cell_type": "code",
   "execution_count": 21,
   "id": "d4143cd4-d168-4d5e-abb6-7c2bc6d450cb",
   "metadata": {},
   "outputs": [],
   "source": [
    "df3 = df3.drop(['summary','course_type','instructors', 'course_description','course_syllabus', 'course_effort','course_length'], axis=1)"
   ]
  },
  {
   "cell_type": "code",
   "execution_count": 22,
   "id": "063f2a84-d704-4dd3-ac35-c7b9cc17488f",
   "metadata": {},
   "outputs": [
    {
     "data": {
      "text/html": [
       "<div>\n",
       "<style scoped>\n",
       "    .dataframe tbody tr th:only-of-type {\n",
       "        vertical-align: middle;\n",
       "    }\n",
       "\n",
       "    .dataframe tbody tr th {\n",
       "        vertical-align: top;\n",
       "    }\n",
       "\n",
       "    .dataframe thead th {\n",
       "        text-align: right;\n",
       "    }\n",
       "</style>\n",
       "<table border=\"1\" class=\"dataframe\">\n",
       "  <thead>\n",
       "    <tr style=\"text-align: right;\">\n",
       "      <th></th>\n",
       "      <th>title</th>\n",
       "      <th>n_enrolled</th>\n",
       "      <th>institution</th>\n",
       "      <th>Level</th>\n",
       "      <th>subject</th>\n",
       "      <th>language</th>\n",
       "      <th>subtitles</th>\n",
       "      <th>price</th>\n",
       "      <th>course_url</th>\n",
       "      <th>course_effort_promedio</th>\n",
       "      <th>course_length_semana</th>\n",
       "    </tr>\n",
       "  </thead>\n",
       "  <tbody>\n",
       "    <tr>\n",
       "      <th>0</th>\n",
       "      <td>How to Learn Online</td>\n",
       "      <td>124,980</td>\n",
       "      <td>edX</td>\n",
       "      <td>Introductory</td>\n",
       "      <td>Education &amp; Teacher Training</td>\n",
       "      <td>English</td>\n",
       "      <td>English</td>\n",
       "      <td>FREE-Add a Verified Certificate for $49 USD</td>\n",
       "      <td>https://www.edx.org/course/how-to-learn-online</td>\n",
       "      <td>2</td>\n",
       "      <td>2</td>\n",
       "    </tr>\n",
       "    <tr>\n",
       "      <th>1</th>\n",
       "      <td>Programming for Everybody (Getting Started wit...</td>\n",
       "      <td>293,864</td>\n",
       "      <td>The University of Michigan</td>\n",
       "      <td>Introductory</td>\n",
       "      <td>Computer Science</td>\n",
       "      <td>English</td>\n",
       "      <td>English</td>\n",
       "      <td>FREE-Add a Verified Certificate for $49 USD</td>\n",
       "      <td>https://www.edx.org/course/programming-for-eve...</td>\n",
       "      <td>3</td>\n",
       "      <td>7</td>\n",
       "    </tr>\n",
       "    <tr>\n",
       "      <th>2</th>\n",
       "      <td>CS50's Introduction to Computer Science</td>\n",
       "      <td>2,442,271</td>\n",
       "      <td>Harvard University</td>\n",
       "      <td>Introductory</td>\n",
       "      <td>Computer Science</td>\n",
       "      <td>English</td>\n",
       "      <td>English</td>\n",
       "      <td>FREE-Add a Verified Certificate for $90 USD</td>\n",
       "      <td>https://www.edx.org/course/cs50s-introduction-...</td>\n",
       "      <td>12</td>\n",
       "      <td>12</td>\n",
       "    </tr>\n",
       "    <tr>\n",
       "      <th>3</th>\n",
       "      <td>The Analytics Edge</td>\n",
       "      <td>129,555</td>\n",
       "      <td>Massachusetts Institute of Technology</td>\n",
       "      <td>Intermediate</td>\n",
       "      <td>Data Analysis &amp; Statistics</td>\n",
       "      <td>English</td>\n",
       "      <td>English</td>\n",
       "      <td>FREE-Add a Verified Certificate for $199 USD</td>\n",
       "      <td>https://www.edx.org/course/the-analytics-edge</td>\n",
       "      <td>12</td>\n",
       "      <td>13</td>\n",
       "    </tr>\n",
       "    <tr>\n",
       "      <th>4</th>\n",
       "      <td>Marketing Analytics: Marketing Measurement Str...</td>\n",
       "      <td>81,140</td>\n",
       "      <td>University of California, Berkeley</td>\n",
       "      <td>Introductory</td>\n",
       "      <td>Computer Science</td>\n",
       "      <td>English</td>\n",
       "      <td>English</td>\n",
       "      <td>FREE-Add a Verified Certificate for $249 USD</td>\n",
       "      <td>https://www.edx.org/course/marketing-analytics...</td>\n",
       "      <td>6</td>\n",
       "      <td>4</td>\n",
       "    </tr>\n",
       "  </tbody>\n",
       "</table>\n",
       "</div>"
      ],
      "text/plain": [
       "                                               title n_enrolled  \\\n",
       "0                                How to Learn Online    124,980   \n",
       "1  Programming for Everybody (Getting Started wit...    293,864   \n",
       "2            CS50's Introduction to Computer Science  2,442,271   \n",
       "3                                 The Analytics Edge    129,555   \n",
       "4  Marketing Analytics: Marketing Measurement Str...     81,140   \n",
       "\n",
       "                             institution         Level  \\\n",
       "0                                    edX  Introductory   \n",
       "1             The University of Michigan  Introductory   \n",
       "2                     Harvard University  Introductory   \n",
       "3  Massachusetts Institute of Technology  Intermediate   \n",
       "4     University of California, Berkeley  Introductory   \n",
       "\n",
       "                        subject language subtitles  \\\n",
       "0  Education & Teacher Training  English   English   \n",
       "1              Computer Science  English   English   \n",
       "2              Computer Science  English   English   \n",
       "3    Data Analysis & Statistics  English   English   \n",
       "4              Computer Science  English   English   \n",
       "\n",
       "                                          price  \\\n",
       "0   FREE-Add a Verified Certificate for $49 USD   \n",
       "1   FREE-Add a Verified Certificate for $49 USD   \n",
       "2   FREE-Add a Verified Certificate for $90 USD   \n",
       "3  FREE-Add a Verified Certificate for $199 USD   \n",
       "4  FREE-Add a Verified Certificate for $249 USD   \n",
       "\n",
       "                                          course_url  course_effort_promedio  \\\n",
       "0     https://www.edx.org/course/how-to-learn-online                       2   \n",
       "1  https://www.edx.org/course/programming-for-eve...                       3   \n",
       "2  https://www.edx.org/course/cs50s-introduction-...                      12   \n",
       "3      https://www.edx.org/course/the-analytics-edge                      12   \n",
       "4  https://www.edx.org/course/marketing-analytics...                       6   \n",
       "\n",
       "   course_length_semana  \n",
       "0                     2  \n",
       "1                     7  \n",
       "2                    12  \n",
       "3                    13  \n",
       "4                     4  "
      ]
     },
     "execution_count": 22,
     "metadata": {},
     "output_type": "execute_result"
    }
   ],
   "source": [
    "df3.head()"
   ]
  },
  {
   "cell_type": "code",
   "execution_count": 23,
   "id": "10dbc97d-ad3a-4c6c-85fe-445e27e1e14e",
   "metadata": {},
   "outputs": [],
   "source": [
    "df3['price'] = df3['price'].str.extract(r'\\$(\\d+) USD')"
   ]
  },
  {
   "cell_type": "code",
   "execution_count": 24,
   "id": "5d383637-a3a8-4734-863e-0d355982ef05",
   "metadata": {},
   "outputs": [
    {
     "name": "stdout",
     "output_type": "stream",
     "text": [
      "<class 'pandas.core.frame.DataFrame'>\n",
      "Int64Index: 974 entries, 0 to 974\n",
      "Data columns (total 11 columns):\n",
      " #   Column                  Non-Null Count  Dtype \n",
      "---  ------                  --------------  ----- \n",
      " 0   title                   974 non-null    object\n",
      " 1   n_enrolled              854 non-null    object\n",
      " 2   institution             974 non-null    object\n",
      " 3   Level                   974 non-null    object\n",
      " 4   subject                 974 non-null    object\n",
      " 5   language                974 non-null    object\n",
      " 6   subtitles               971 non-null    object\n",
      " 7   price                   966 non-null    object\n",
      " 8   course_url              974 non-null    object\n",
      " 9   course_effort_promedio  974 non-null    int32 \n",
      " 10  course_length_semana    974 non-null    int32 \n",
      "dtypes: int32(2), object(9)\n",
      "memory usage: 83.7+ KB\n"
     ]
    }
   ],
   "source": [
    "df3.info()"
   ]
  },
  {
   "cell_type": "code",
   "execution_count": 25,
   "id": "c9a0ffd8-918e-4564-b923-1ace332e8299",
   "metadata": {},
   "outputs": [],
   "source": [
    "df3['n_enrolled'] = df3['n_enrolled'].str.replace(',', '')"
   ]
  },
  {
   "cell_type": "code",
   "execution_count": 26,
   "id": "e2e44a58-7236-42b3-9a84-e3345188f05c",
   "metadata": {},
   "outputs": [],
   "source": [
    "df3['n_enrolled'] = df3['n_enrolled'].fillna(0)\n",
    "df3['price'] = df3['price'].fillna(0)"
   ]
  },
  {
   "cell_type": "code",
   "execution_count": 27,
   "id": "ebfb2f0a-3b00-4669-920c-9521c3847077",
   "metadata": {},
   "outputs": [],
   "source": [
    "df3['n_enrolled'] = df3['n_enrolled'].astype(int)\n",
    "df3['price'] = df3['price'].astype(int)"
   ]
  },
  {
   "cell_type": "code",
   "execution_count": 28,
   "id": "647afee1-0563-40cd-9944-f77547c9e4b5",
   "metadata": {},
   "outputs": [
    {
     "data": {
      "text/html": [
       "<div>\n",
       "<style scoped>\n",
       "    .dataframe tbody tr th:only-of-type {\n",
       "        vertical-align: middle;\n",
       "    }\n",
       "\n",
       "    .dataframe tbody tr th {\n",
       "        vertical-align: top;\n",
       "    }\n",
       "\n",
       "    .dataframe thead th {\n",
       "        text-align: right;\n",
       "    }\n",
       "</style>\n",
       "<table border=\"1\" class=\"dataframe\">\n",
       "  <thead>\n",
       "    <tr style=\"text-align: right;\">\n",
       "      <th></th>\n",
       "      <th>title</th>\n",
       "      <th>n_enrolled</th>\n",
       "      <th>institution</th>\n",
       "      <th>Level</th>\n",
       "      <th>subject</th>\n",
       "      <th>language</th>\n",
       "      <th>subtitles</th>\n",
       "      <th>price</th>\n",
       "      <th>course_url</th>\n",
       "      <th>course_effort_promedio</th>\n",
       "      <th>course_length_semana</th>\n",
       "    </tr>\n",
       "  </thead>\n",
       "  <tbody>\n",
       "    <tr>\n",
       "      <th>0</th>\n",
       "      <td>How to Learn Online</td>\n",
       "      <td>124980</td>\n",
       "      <td>edX</td>\n",
       "      <td>Introductory</td>\n",
       "      <td>Education &amp; Teacher Training</td>\n",
       "      <td>English</td>\n",
       "      <td>English</td>\n",
       "      <td>49</td>\n",
       "      <td>https://www.edx.org/course/how-to-learn-online</td>\n",
       "      <td>2</td>\n",
       "      <td>2</td>\n",
       "    </tr>\n",
       "    <tr>\n",
       "      <th>1</th>\n",
       "      <td>Programming for Everybody (Getting Started wit...</td>\n",
       "      <td>293864</td>\n",
       "      <td>The University of Michigan</td>\n",
       "      <td>Introductory</td>\n",
       "      <td>Computer Science</td>\n",
       "      <td>English</td>\n",
       "      <td>English</td>\n",
       "      <td>49</td>\n",
       "      <td>https://www.edx.org/course/programming-for-eve...</td>\n",
       "      <td>3</td>\n",
       "      <td>7</td>\n",
       "    </tr>\n",
       "  </tbody>\n",
       "</table>\n",
       "</div>"
      ],
      "text/plain": [
       "                                               title  n_enrolled  \\\n",
       "0                                How to Learn Online      124980   \n",
       "1  Programming for Everybody (Getting Started wit...      293864   \n",
       "\n",
       "                  institution         Level                       subject  \\\n",
       "0                         edX  Introductory  Education & Teacher Training   \n",
       "1  The University of Michigan  Introductory              Computer Science   \n",
       "\n",
       "  language subtitles  price  \\\n",
       "0  English   English     49   \n",
       "1  English   English     49   \n",
       "\n",
       "                                          course_url  course_effort_promedio  \\\n",
       "0     https://www.edx.org/course/how-to-learn-online                       2   \n",
       "1  https://www.edx.org/course/programming-for-eve...                       3   \n",
       "\n",
       "   course_length_semana  \n",
       "0                     2  \n",
       "1                     7  "
      ]
     },
     "execution_count": 28,
     "metadata": {},
     "output_type": "execute_result"
    }
   ],
   "source": [
    "df3.head(2)"
   ]
  },
  {
   "cell_type": "code",
   "execution_count": 29,
   "id": "2bcbe76c-c88e-4b79-9005-107db450675a",
   "metadata": {},
   "outputs": [
    {
     "data": {
      "text/html": [
       "<div>\n",
       "<style scoped>\n",
       "    .dataframe tbody tr th:only-of-type {\n",
       "        vertical-align: middle;\n",
       "    }\n",
       "\n",
       "    .dataframe tbody tr th {\n",
       "        vertical-align: top;\n",
       "    }\n",
       "\n",
       "    .dataframe thead th {\n",
       "        text-align: right;\n",
       "    }\n",
       "</style>\n",
       "<table border=\"1\" class=\"dataframe\">\n",
       "  <thead>\n",
       "    <tr style=\"text-align: right;\">\n",
       "      <th></th>\n",
       "      <th>course_id</th>\n",
       "      <th>course_title</th>\n",
       "      <th>url</th>\n",
       "      <th>is_paid</th>\n",
       "      <th>price</th>\n",
       "      <th>num_subscribers</th>\n",
       "      <th>num_reviews</th>\n",
       "      <th>num_lectures</th>\n",
       "      <th>level</th>\n",
       "      <th>content_duration</th>\n",
       "      <th>published_timestamp</th>\n",
       "      <th>subject</th>\n",
       "    </tr>\n",
       "  </thead>\n",
       "  <tbody>\n",
       "    <tr>\n",
       "      <th>0</th>\n",
       "      <td>1070968</td>\n",
       "      <td>Ultimate Investment Banking Course</td>\n",
       "      <td>https://www.udemy.com/ultimate-investment-bank...</td>\n",
       "      <td>True</td>\n",
       "      <td>200</td>\n",
       "      <td>2147</td>\n",
       "      <td>23</td>\n",
       "      <td>51</td>\n",
       "      <td>All Levels</td>\n",
       "      <td>1.5</td>\n",
       "      <td>2017-01-18T20:58:58Z</td>\n",
       "      <td>Business Finance</td>\n",
       "    </tr>\n",
       "    <tr>\n",
       "      <th>1</th>\n",
       "      <td>1113822</td>\n",
       "      <td>Complete GST Course &amp; Certification - Grow You...</td>\n",
       "      <td>https://www.udemy.com/goods-and-services-tax/</td>\n",
       "      <td>True</td>\n",
       "      <td>75</td>\n",
       "      <td>2792</td>\n",
       "      <td>923</td>\n",
       "      <td>274</td>\n",
       "      <td>All Levels</td>\n",
       "      <td>39.0</td>\n",
       "      <td>2017-03-09T16:34:20Z</td>\n",
       "      <td>Business Finance</td>\n",
       "    </tr>\n",
       "    <tr>\n",
       "      <th>2</th>\n",
       "      <td>1006314</td>\n",
       "      <td>Financial Modeling for Business Analysts and C...</td>\n",
       "      <td>https://www.udemy.com/financial-modeling-for-b...</td>\n",
       "      <td>True</td>\n",
       "      <td>45</td>\n",
       "      <td>2174</td>\n",
       "      <td>74</td>\n",
       "      <td>51</td>\n",
       "      <td>Intermediate Level</td>\n",
       "      <td>2.5</td>\n",
       "      <td>2016-12-19T19:26:30Z</td>\n",
       "      <td>Business Finance</td>\n",
       "    </tr>\n",
       "    <tr>\n",
       "      <th>3</th>\n",
       "      <td>1210588</td>\n",
       "      <td>Beginner to Pro - Financial Analysis in Excel ...</td>\n",
       "      <td>https://www.udemy.com/complete-excel-finance-c...</td>\n",
       "      <td>True</td>\n",
       "      <td>95</td>\n",
       "      <td>2451</td>\n",
       "      <td>11</td>\n",
       "      <td>36</td>\n",
       "      <td>All Levels</td>\n",
       "      <td>3.0</td>\n",
       "      <td>2017-05-30T20:07:24Z</td>\n",
       "      <td>Business Finance</td>\n",
       "    </tr>\n",
       "    <tr>\n",
       "      <th>4</th>\n",
       "      <td>1011058</td>\n",
       "      <td>How To Maximize Your Profits Trading Options</td>\n",
       "      <td>https://www.udemy.com/how-to-maximize-your-pro...</td>\n",
       "      <td>True</td>\n",
       "      <td>200</td>\n",
       "      <td>1276</td>\n",
       "      <td>45</td>\n",
       "      <td>26</td>\n",
       "      <td>Intermediate Level</td>\n",
       "      <td>2.0</td>\n",
       "      <td>2016-12-13T14:57:18Z</td>\n",
       "      <td>Business Finance</td>\n",
       "    </tr>\n",
       "  </tbody>\n",
       "</table>\n",
       "</div>"
      ],
      "text/plain": [
       "   course_id                                       course_title  \\\n",
       "0    1070968                 Ultimate Investment Banking Course   \n",
       "1    1113822  Complete GST Course & Certification - Grow You...   \n",
       "2    1006314  Financial Modeling for Business Analysts and C...   \n",
       "3    1210588  Beginner to Pro - Financial Analysis in Excel ...   \n",
       "4    1011058       How To Maximize Your Profits Trading Options   \n",
       "\n",
       "                                                 url  is_paid  price  \\\n",
       "0  https://www.udemy.com/ultimate-investment-bank...     True    200   \n",
       "1      https://www.udemy.com/goods-and-services-tax/     True     75   \n",
       "2  https://www.udemy.com/financial-modeling-for-b...     True     45   \n",
       "3  https://www.udemy.com/complete-excel-finance-c...     True     95   \n",
       "4  https://www.udemy.com/how-to-maximize-your-pro...     True    200   \n",
       "\n",
       "   num_subscribers  num_reviews  num_lectures               level  \\\n",
       "0             2147           23            51          All Levels   \n",
       "1             2792          923           274          All Levels   \n",
       "2             2174           74            51  Intermediate Level   \n",
       "3             2451           11            36          All Levels   \n",
       "4             1276           45            26  Intermediate Level   \n",
       "\n",
       "   content_duration   published_timestamp           subject  \n",
       "0               1.5  2017-01-18T20:58:58Z  Business Finance  \n",
       "1              39.0  2017-03-09T16:34:20Z  Business Finance  \n",
       "2               2.5  2016-12-19T19:26:30Z  Business Finance  \n",
       "3               3.0  2017-05-30T20:07:24Z  Business Finance  \n",
       "4               2.0  2016-12-13T14:57:18Z  Business Finance  "
      ]
     },
     "execution_count": 29,
     "metadata": {},
     "output_type": "execute_result"
    }
   ],
   "source": [
    "df4.head()"
   ]
  },
  {
   "cell_type": "code",
   "execution_count": 30,
   "id": "f97df652-8cfd-4158-b31d-6b94a33188df",
   "metadata": {},
   "outputs": [
    {
     "name": "stdout",
     "output_type": "stream",
     "text": [
      "<class 'pandas.core.frame.DataFrame'>\n",
      "RangeIndex: 3678 entries, 0 to 3677\n",
      "Data columns (total 12 columns):\n",
      " #   Column               Non-Null Count  Dtype  \n",
      "---  ------               --------------  -----  \n",
      " 0   course_id            3678 non-null   int64  \n",
      " 1   course_title         3678 non-null   object \n",
      " 2   url                  3678 non-null   object \n",
      " 3   is_paid              3678 non-null   bool   \n",
      " 4   price                3678 non-null   int64  \n",
      " 5   num_subscribers      3678 non-null   int64  \n",
      " 6   num_reviews          3678 non-null   int64  \n",
      " 7   num_lectures         3678 non-null   int64  \n",
      " 8   level                3678 non-null   object \n",
      " 9   content_duration     3678 non-null   float64\n",
      " 10  published_timestamp  3678 non-null   object \n",
      " 11  subject              3678 non-null   object \n",
      "dtypes: bool(1), float64(1), int64(5), object(5)\n",
      "memory usage: 319.8+ KB\n"
     ]
    }
   ],
   "source": [
    "df4.info()"
   ]
  },
  {
   "cell_type": "code",
   "execution_count": 31,
   "id": "50de0c1c-7f67-44de-94dc-42cc89233a1c",
   "metadata": {},
   "outputs": [
    {
     "name": "stdout",
     "output_type": "stream",
     "text": [
      "6\n"
     ]
    }
   ],
   "source": [
    "duplicados = df4.duplicated()\n",
    "cantidad_duplicados = duplicados.sum()\n",
    "print(cantidad_duplicados)"
   ]
  },
  {
   "cell_type": "code",
   "execution_count": 32,
   "id": "a498b211-2dec-43d0-b4a0-d73f6ba5d0a7",
   "metadata": {},
   "outputs": [],
   "source": [
    "df4 = df4.drop_duplicates()"
   ]
  },
  {
   "cell_type": "code",
   "execution_count": 33,
   "id": "121b7a40-0b76-405e-b496-d989568f29ee",
   "metadata": {},
   "outputs": [],
   "source": [
    "df4['published_date'] = df4['published_timestamp'].str.split('T').str[0]"
   ]
  },
  {
   "cell_type": "code",
   "execution_count": 34,
   "id": "6ebb5cae-32b7-45e4-b6c8-ba78883ea5bd",
   "metadata": {},
   "outputs": [],
   "source": [
    "df4['published_date'] = pd.to_datetime(df4['published_date'], errors='coerce')"
   ]
  },
  {
   "cell_type": "code",
   "execution_count": 35,
   "id": "3a5e3dce-b8d0-46f9-ad23-da8a76bdb21e",
   "metadata": {},
   "outputs": [],
   "source": [
    "df4.drop(['course_id','published_timestamp'], axis=1, inplace=True)"
   ]
  },
  {
   "cell_type": "code",
   "execution_count": 36,
   "id": "3d4fc43c-fa11-4422-9eac-71bfd9048c6e",
   "metadata": {},
   "outputs": [
    {
     "data": {
      "text/html": [
       "<div>\n",
       "<style scoped>\n",
       "    .dataframe tbody tr th:only-of-type {\n",
       "        vertical-align: middle;\n",
       "    }\n",
       "\n",
       "    .dataframe tbody tr th {\n",
       "        vertical-align: top;\n",
       "    }\n",
       "\n",
       "    .dataframe thead th {\n",
       "        text-align: right;\n",
       "    }\n",
       "</style>\n",
       "<table border=\"1\" class=\"dataframe\">\n",
       "  <thead>\n",
       "    <tr style=\"text-align: right;\">\n",
       "      <th></th>\n",
       "      <th>course_title</th>\n",
       "      <th>url</th>\n",
       "      <th>is_paid</th>\n",
       "      <th>price</th>\n",
       "      <th>num_subscribers</th>\n",
       "      <th>num_reviews</th>\n",
       "      <th>num_lectures</th>\n",
       "      <th>level</th>\n",
       "      <th>content_duration</th>\n",
       "      <th>subject</th>\n",
       "      <th>published_date</th>\n",
       "    </tr>\n",
       "  </thead>\n",
       "  <tbody>\n",
       "    <tr>\n",
       "      <th>0</th>\n",
       "      <td>Ultimate Investment Banking Course</td>\n",
       "      <td>https://www.udemy.com/ultimate-investment-bank...</td>\n",
       "      <td>True</td>\n",
       "      <td>200</td>\n",
       "      <td>2147</td>\n",
       "      <td>23</td>\n",
       "      <td>51</td>\n",
       "      <td>All Levels</td>\n",
       "      <td>1.5</td>\n",
       "      <td>Business Finance</td>\n",
       "      <td>2017-01-18</td>\n",
       "    </tr>\n",
       "    <tr>\n",
       "      <th>1</th>\n",
       "      <td>Complete GST Course &amp; Certification - Grow You...</td>\n",
       "      <td>https://www.udemy.com/goods-and-services-tax/</td>\n",
       "      <td>True</td>\n",
       "      <td>75</td>\n",
       "      <td>2792</td>\n",
       "      <td>923</td>\n",
       "      <td>274</td>\n",
       "      <td>All Levels</td>\n",
       "      <td>39.0</td>\n",
       "      <td>Business Finance</td>\n",
       "      <td>2017-03-09</td>\n",
       "    </tr>\n",
       "  </tbody>\n",
       "</table>\n",
       "</div>"
      ],
      "text/plain": [
       "                                        course_title  \\\n",
       "0                 Ultimate Investment Banking Course   \n",
       "1  Complete GST Course & Certification - Grow You...   \n",
       "\n",
       "                                                 url  is_paid  price  \\\n",
       "0  https://www.udemy.com/ultimate-investment-bank...     True    200   \n",
       "1      https://www.udemy.com/goods-and-services-tax/     True     75   \n",
       "\n",
       "   num_subscribers  num_reviews  num_lectures       level  content_duration  \\\n",
       "0             2147           23            51  All Levels               1.5   \n",
       "1             2792          923           274  All Levels              39.0   \n",
       "\n",
       "            subject published_date  \n",
       "0  Business Finance     2017-01-18  \n",
       "1  Business Finance     2017-03-09  "
      ]
     },
     "execution_count": 36,
     "metadata": {},
     "output_type": "execute_result"
    }
   ],
   "source": [
    "df4.head(2)"
   ]
  },
  {
   "cell_type": "code",
   "execution_count": 38,
   "id": "9358a5ae-d4c0-470a-ab0b-34c92871579d",
   "metadata": {},
   "outputs": [],
   "source": [
    "df1.to_csv('Coursera_courses2.csv', index=False)\n",
    "df2.to_csv('Coursera_reviews2.csv', index=False)\n",
    "df3.to_csv('edx_courses2.csv', index=False)\n",
    "df4.to_csv('udemy_courses.csv', index=False)"
   ]
  },
  {
   "cell_type": "code",
   "execution_count": null,
   "id": "557dd474-c6a6-42d4-bcab-6eab4c672799",
   "metadata": {},
   "outputs": [],
   "source": []
  },
  {
   "cell_type": "code",
   "execution_count": null,
   "id": "1ad2dee3-3a53-4ddd-a6a2-944d5f93076b",
   "metadata": {},
   "outputs": [],
   "source": []
  },
  {
   "cell_type": "code",
   "execution_count": null,
   "id": "4d4cf440-0109-4152-b466-4e046b62887d",
   "metadata": {},
   "outputs": [],
   "source": []
  }
 ],
 "metadata": {
  "kernelspec": {
   "display_name": "Python 3 (ipykernel)",
   "language": "python",
   "name": "python3"
  },
  "language_info": {
   "codemirror_mode": {
    "name": "ipython",
    "version": 3
   },
   "file_extension": ".py",
   "mimetype": "text/x-python",
   "name": "python",
   "nbconvert_exporter": "python",
   "pygments_lexer": "ipython3",
   "version": "3.10.9"
  }
 },
 "nbformat": 4,
 "nbformat_minor": 5
}
